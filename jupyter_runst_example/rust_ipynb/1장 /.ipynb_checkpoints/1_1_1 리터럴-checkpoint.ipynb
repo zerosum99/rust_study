{
 "cells": [
  {
   "cell_type": "markdown",
   "id": "8511e99d",
   "metadata": {},
   "source": [
    "# 0. 외부 크레이트 가져오기"
   ]
  },
  {
   "cell_type": "markdown",
   "id": "e08a8ccb",
   "metadata": {},
   "source": [
    "## 0-1. crate 를 현재 개발 환경에 가져오기\n",
    "\n",
    "- 타입에 대한 정보를 처리하기 위해 외부에서 크레이트를 가져온다\n",
    "- :dep 크레이트명 = 버전\n",
    "- 크레이트 버전은 crates.io 에서 크레이트 명을 확인하고 처리 \n"
   ]
  },
  {
   "cell_type": "code",
   "execution_count": 2,
   "id": "69ecd799",
   "metadata": {},
   "outputs": [],
   "source": [
    ":dep typename = \"0.1.2\""
   ]
  },
  {
   "cell_type": "markdown",
   "id": "c9993f7e",
   "metadata": {},
   "source": [
    "## 0-2. 크레이트 내의 트레이트 사용하기\n",
    "\n",
    "- 크레이트를 가져와서 사용할 때는 use 예약어를 사용\n",
    "- 크레이트:: 트레이트명"
   ]
  },
  {
   "cell_type": "code",
   "execution_count": null,
   "id": "3a492e9d",
   "metadata": {},
   "outputs": [],
   "source": [
    "### 해당 메서드를 사용하려면 트레이트를 사용\n",
    "\n",
    "- use 크레이트명::트레이트명"
   ]
  },
  {
   "cell_type": "code",
   "execution_count": 5,
   "id": "6a8fd209",
   "metadata": {},
   "outputs": [],
   "source": [
    "use typename::TypeName;"
   ]
  },
  {
   "cell_type": "markdown",
   "id": "819848ef",
   "metadata": {},
   "source": [
    "## 0-3 타입 애노테이션에서 타입이름가져오기\n",
    "\n",
    "- 타입 애노테이션에서 타입명은 연관함수를 사용\n",
    "- 연관함수는 내부에 인스턴스를 별도로 받지 않느다.\n",
    "- 그래서 타입 애노테이션 :: 함수명을 사용해서 정보를 조회"
   ]
  },
  {
   "cell_type": "markdown",
   "id": "336afc36",
   "metadata": {},
   "source": [
    "### 타입 애노테이션에서 이름 가지오기"
   ]
  },
  {
   "cell_type": "code",
   "execution_count": null,
   "id": "4296fd0c",
   "metadata": {},
   "outputs": [],
   "source": []
  },
  {
   "cell_type": "code",
   "execution_count": 20,
   "id": "e894c8cf",
   "metadata": {},
   "outputs": [],
   "source": [
    "i32::type_name();    // 문장으로 처리하면 반환값이 없어서 출력한 결과가 없다."
   ]
  },
  {
   "cell_type": "code",
   "execution_count": 22,
   "id": "ffa15db8",
   "metadata": {},
   "outputs": [],
   "source": [
    "// 세미콜론을 안 찍으면 표현식으로 인식한다. "
   ]
  },
  {
   "cell_type": "code",
   "execution_count": 23,
   "id": "130fd885",
   "metadata": {},
   "outputs": [
    {
     "data": {
      "text/plain": [
       "\"i32\""
      ]
     },
     "execution_count": 23,
     "metadata": {},
     "output_type": "execute_result"
    }
   ],
   "source": [
    "i32::type_name()"
   ]
  },
  {
   "cell_type": "markdown",
   "id": "711704d6",
   "metadata": {},
   "source": [
    "### 구조체의 타입이름도 가져올 수 있다.\n",
    "- 타입 애노테이션과 동일한 방식으로 가져온다"
   ]
  },
  {
   "cell_type": "code",
   "execution_count": 17,
   "id": "35cb9fb2",
   "metadata": {},
   "outputs": [
    {
     "data": {
      "text/plain": [
       "\"std::string::String\""
      ]
     },
     "execution_count": 17,
     "metadata": {},
     "output_type": "execute_result"
    }
   ],
   "source": [
    "String::type_name()"
   ]
  },
  {
   "cell_type": "code",
   "execution_count": 13,
   "id": "11b5b781",
   "metadata": {},
   "outputs": [
    {
     "data": {
      "text/plain": [
       "\"str\""
      ]
     },
     "execution_count": 13,
     "metadata": {},
     "output_type": "execute_result"
    }
   ],
   "source": [
    "str::type_name()"
   ]
  },
  {
   "cell_type": "markdown",
   "id": "77c021e1",
   "metadata": {},
   "source": [
    "### 인스턴스의 타입 애노테이션 이름 가져오기\n",
    "\n",
    "- 메서드를 사용해서 가져온다.\n",
    "- 메서드는 인스턴스.메서드명으로 호출해서 가져온다"
   ]
  },
  {
   "cell_type": "code",
   "execution_count": 15,
   "id": "21a9988f",
   "metadata": {},
   "outputs": [
    {
     "data": {
      "text/plain": [
       "\"i32\""
      ]
     },
     "execution_count": 15,
     "metadata": {},
     "output_type": "execute_result"
    }
   ],
   "source": [
    "100.type_name_of()"
   ]
  },
  {
   "cell_type": "code",
   "execution_count": 16,
   "id": "38a21475",
   "metadata": {},
   "outputs": [
    {
     "data": {
      "text/plain": [
       "\"std::string::String\""
      ]
     },
     "execution_count": 16,
     "metadata": {},
     "output_type": "execute_result"
    }
   ],
   "source": [
    "\"문자열 리터럴\".to_string().type_name_of()"
   ]
  },
  {
   "cell_type": "code",
   "execution_count": 14,
   "id": "f515fc93",
   "metadata": {},
   "outputs": [
    {
     "data": {
      "text/plain": [
       "\"str\""
      ]
     },
     "execution_count": 14,
     "metadata": {},
     "output_type": "execute_result"
    }
   ],
   "source": [
    "\"문자열 리터럴 \".type_name_of()"
   ]
  },
  {
   "cell_type": "markdown",
   "id": "8e9eb8f7",
   "metadata": {},
   "source": [
    "# 1. 스칼라(scalar Literal)\n",
    "- 하나의 원소만을 표현하는 표현식\n",
    "- 보통 정수와 부동소수점 실수의 숫자, 불리언, 문자 \n",
    "\n"
   ]
  },
  {
   "cell_type": "markdown",
   "id": "d1467c5b",
   "metadata": {},
   "source": [
    "## 1-1. 숫자에 대한 리터럴 확인"
   ]
  },
  {
   "cell_type": "markdown",
   "id": "0e95d73b",
   "metadata": {},
   "source": [
    "### 정수는 기본 i32 타입 애노테이션으로 인식"
   ]
  },
  {
   "cell_type": "code",
   "execution_count": 24,
   "id": "8d515439",
   "metadata": {},
   "outputs": [],
   "source": [
    "let v = 100;"
   ]
  },
  {
   "cell_type": "code",
   "execution_count": 25,
   "id": "d928781f",
   "metadata": {},
   "outputs": [
    {
     "data": {
      "text/plain": [
       "\"i32\""
      ]
     },
     "execution_count": 25,
     "metadata": {},
     "output_type": "execute_result"
    }
   ],
   "source": [
    "v.type_name_of()"
   ]
  },
  {
   "cell_type": "markdown",
   "id": "3d2b7c17",
   "metadata": {},
   "source": [
    "### 리터럴에 타입애노테이션 붙이기\n",
    "\n",
    "- 리터럴에 타입 애너테이션을 접미사로 붙인다.\n",
    "- 보통 밑줄 다음에 붙이지만 밑줄 없이 붙여도 가능"
   ]
  },
  {
   "cell_type": "code",
   "execution_count": 26,
   "id": "8a34ad0d",
   "metadata": {},
   "outputs": [
    {
     "data": {
      "text/plain": [
       "\"u32\""
      ]
     },
     "execution_count": 26,
     "metadata": {},
     "output_type": "execute_result"
    }
   ],
   "source": [
    "100_u32.type_name_of()"
   ]
  },
  {
   "cell_type": "code",
   "execution_count": 27,
   "id": "f776a215",
   "metadata": {},
   "outputs": [
    {
     "data": {
      "text/plain": [
       "\"u32\""
      ]
     },
     "execution_count": 27,
     "metadata": {},
     "output_type": "execute_result"
    }
   ],
   "source": [
    "100u32.type_name_of()"
   ]
  },
  {
   "cell_type": "code",
   "execution_count": null,
   "id": "ae4f537b",
   "metadata": {},
   "outputs": [],
   "source": []
  },
  {
   "cell_type": "markdown",
   "id": "20cdf5e8",
   "metadata": {},
   "source": [
    "### 실수는 기본 f64로 사용\n",
    "\n",
    "- 실수를 f32 리터럴로 사용하려면 리터럴 타입에 접미사로 처리가 필요"
   ]
  },
  {
   "cell_type": "code",
   "execution_count": 28,
   "id": "53a1e04d",
   "metadata": {},
   "outputs": [
    {
     "data": {
      "text/plain": [
       "\"f64\""
      ]
     },
     "execution_count": 28,
     "metadata": {},
     "output_type": "execute_result"
    }
   ],
   "source": [
    "100.33.type_name_of()"
   ]
  },
  {
   "cell_type": "code",
   "execution_count": 29,
   "id": "5022ca88",
   "metadata": {},
   "outputs": [
    {
     "data": {
      "text/plain": [
       "\"f32\""
      ]
     },
     "execution_count": 29,
     "metadata": {},
     "output_type": "execute_result"
    }
   ],
   "source": [
    "100.33_f32.type_name_of()"
   ]
  },
  {
   "cell_type": "code",
   "execution_count": 30,
   "id": "21e6f246",
   "metadata": {},
   "outputs": [
    {
     "data": {
      "text/plain": [
       "\"f32\""
      ]
     },
     "execution_count": 30,
     "metadata": {},
     "output_type": "execute_result"
    }
   ],
   "source": [
    "100.33f32.type_name_of()"
   ]
  },
  {
   "cell_type": "markdown",
   "id": "898693a6",
   "metadata": {},
   "source": [
    "## 1-2. 메모리의 사이즈 처리 "
   ]
  },
  {
   "cell_type": "markdown",
   "id": "81094b9a",
   "metadata": {},
   "source": [
    "### 메모리를 처리하는 함수 사용하기"
   ]
  },
  {
   "cell_type": "code",
   "execution_count": 32,
   "id": "982c4d63",
   "metadata": {},
   "outputs": [],
   "source": [
    "use std::mem::size_of_val;"
   ]
  },
  {
   "cell_type": "markdown",
   "id": "9dd81744",
   "metadata": {},
   "source": [
    "### size_of_val 함수는 인자로 전달할 때 참조 & 를 사용해서 처리"
   ]
  },
  {
   "cell_type": "code",
   "execution_count": 46,
   "id": "caa7379c",
   "metadata": {},
   "outputs": [
    {
     "data": {
      "text/plain": [
       "1"
      ]
     },
     "execution_count": 46,
     "metadata": {},
     "output_type": "execute_result"
    }
   ],
   "source": [
    "size_of_val(&10_u8)"
   ]
  },
  {
   "cell_type": "markdown",
   "id": "b2d2df19",
   "metadata": {},
   "source": [
    "### 출력하는 매크로 사용\n",
    "\n",
    "- 화면에 출력은 println! 매크로를 사용한다.  \n",
    "- 이 매크로의 기능은 주어진 것을 문자열로 출력을 한다.\n",
    "- 포매팅을 할 때 특정 값을 문자열 내부의 {} 에 표시"
   ]
  },
  {
   "cell_type": "code",
   "execution_count": 47,
   "id": "2d4d2905",
   "metadata": {},
   "outputs": [
    {
     "name": "stdout",
     "output_type": "stream",
     "text": [
      " 정수 u8  size 1\n"
     ]
    }
   ],
   "source": [
    "println!(\" 정수 u8  size {}\",size_of_val(&10_u8));"
   ]
  },
  {
   "cell_type": "markdown",
   "id": "c81284cd",
   "metadata": {},
   "source": [
    "###  숫자\n",
    "\n",
    "- 부호가 있는 정수 =>  i와 비트 : i8, i16,i32,i64,i128\n",
    "- 부호가 없는 정수 =>  u와 비트 : u8, u16,u32,u64,u128"
   ]
  },
  {
   "cell_type": "markdown",
   "id": "269a0ed5",
   "metadata": {},
   "source": [
    "### 러스트는 실제 main 함수를 지정해야 어플리케애션을 실행할 수 있다.\n",
    "\n",
    "- 그래서 main 함수 내부에 기능을 넣어서 처리\n"
   ]
  },
  {
   "cell_type": "code",
   "execution_count": 33,
   "id": "b7d67837",
   "metadata": {},
   "outputs": [],
   "source": [
    "fn main() {\n",
    "    \n",
    "    println!(\" 정수 u8  size {}\",size_of_val(&10_u8));\n",
    "    println!(\" 정수 i32 size {}\",size_of_val(&10_i32));\n",
    "    println!(\" 실수 f32 size {}\",size_of_val(&20.1_f32));\n",
    "    println!(\" 실수 f64 size {}\",size_of_val(&20.1_f64));\n",
    "}"
   ]
  },
  {
   "cell_type": "markdown",
   "id": "65da55ce",
   "metadata": {},
   "source": [
    "### 메인함수를 실행한다."
   ]
  },
  {
   "cell_type": "code",
   "execution_count": 34,
   "id": "f0a4a2b7",
   "metadata": {},
   "outputs": [
    {
     "name": "stdout",
     "output_type": "stream",
     "text": [
      " 정수 u8  size 1\n",
      " 정수 i32 size 4\n",
      " 실수 f32 size 4\n",
      " 실수 f64 size 8\n"
     ]
    },
    {
     "data": {
      "text/plain": [
       "()"
      ]
     },
     "execution_count": 34,
     "metadata": {},
     "output_type": "execute_result"
    }
   ],
   "source": [
    "main()"
   ]
  },
  {
   "cell_type": "code",
   "execution_count": null,
   "id": "9d9f4a0b",
   "metadata": {},
   "outputs": [],
   "source": []
  },
  {
   "cell_type": "markdown",
   "id": "7801cee0",
   "metadata": {},
   "source": [
    "###   문자리터럴\n",
    "\n",
    "- 문자는 하나의 따옴표를 사용해서 정의 => 정수는 4바이트 유니코드로 처리 \n",
    "\n",
    "- CHAR_LITERAL :\n",
    "' (~ [ ' \\ \\ n \\ r \\ t] | QUOTE_ESCAPE | ASCII_ESCAPE | UNICODE_ESCAPE) '\n",
    "\n",
    "- QUOTE_ESCAPE :\n",
    "\\' | \\\"\n",
    "\n",
    "- ASCII_ESCAPE :\n",
    "\\x OCT_DIGIT HEX_DIGIT\n",
    "| \\n | \\r | \\t | \\\\ | \\0\n",
    "\n",
    "- UNICODE_ESCAPE :\n",
    "\\u{ (HEX_DIGIT _ * ) 1..6 }"
   ]
  },
  {
   "cell_type": "code",
   "execution_count": 22,
   "id": "1eb73fde",
   "metadata": {},
   "outputs": [],
   "source": [
    "fn main() {\n",
    "    println!(\" char size {}\", size_of_val(&'a'));\n",
    "    println!(\" char utf8 {}\", 'a'.len_utf8());\n",
    "    println!(\" char size {}\", size_of_val(&'가'));\n",
    "    println!(\" char utf8 {}\", '가'.len_utf8());\n",
    "}"
   ]
  },
  {
   "cell_type": "code",
   "execution_count": 23,
   "id": "556d6d92",
   "metadata": {},
   "outputs": [
    {
     "name": "stdout",
     "output_type": "stream",
     "text": [
      " char size 4\n",
      " char utf8 1\n",
      " char size 4\n",
      " char utf8 3\n"
     ]
    },
    {
     "data": {
      "text/plain": [
       "()"
      ]
     },
     "execution_count": 23,
     "metadata": {},
     "output_type": "execute_result"
    }
   ],
   "source": [
    "main()"
   ]
  },
  {
   "cell_type": "markdown",
   "id": "dda2d2bb",
   "metadata": {},
   "source": [
    "### 불리언"
   ]
  },
  {
   "cell_type": "code",
   "execution_count": 48,
   "id": "a4e86434",
   "metadata": {},
   "outputs": [],
   "source": [
    "fn main() {\n",
    "    println!(\" bool true  size {}\", size_of_val(&true));\n",
    "    println!(\" bool flase size {}\", size_of_val(&false));\n",
    "\n",
    "}"
   ]
  },
  {
   "cell_type": "code",
   "execution_count": 49,
   "id": "0510c2c2",
   "metadata": {},
   "outputs": [
    {
     "name": "stdout",
     "output_type": "stream",
     "text": [
      " bool true  size 1\n",
      " bool flase size 1\n"
     ]
    },
    {
     "data": {
      "text/plain": [
       "()"
      ]
     },
     "execution_count": 49,
     "metadata": {},
     "output_type": "execute_result"
    }
   ],
   "source": [
    "main()"
   ]
  },
  {
   "cell_type": "markdown",
   "id": "89f357ac",
   "metadata": {},
   "source": [
    "## 1-3. 복합자료구조 : 문자열 리터럴 \n",
    "\n",
    "- 문자열리터럴은 변경이 불가능하다.\n",
    "- 문자열리터럴로 지정하면 &str 타입 애노테이션으로 자료형 처리\n",
    "- 실제 슬라이스이므로 처리"
   ]
  },
  {
   "cell_type": "markdown",
   "id": "56c19890",
   "metadata": {},
   "source": [
    "### 문자열 리터럴 : 변경불가능\n",
    "- STRING_LITERAL :\n",
    "\" (\n",
    "~[\"\\IsolatedCR]\n",
    "| QUOTE_ESCAPE\n",
    "| ASCII_ESCAPE\n",
    "| UNICODE_ESCAPE\n",
    "| STRING_CONTINUE\n",
    ")*\"\n",
    "\n",
    "- STRING_CONTINUE :\n",
    "\\ 다음에 \\ n"
   ]
  },
  {
   "cell_type": "code",
   "execution_count": null,
   "id": "fcfae36d",
   "metadata": {},
   "outputs": [],
   "source": []
  },
  {
   "cell_type": "code",
   "execution_count": 38,
   "id": "91342c45",
   "metadata": {},
   "outputs": [],
   "source": [
    "#[allow(unused)]        // 사용하지 않는 변수 등의 경고 메시지 제약 \n",
    "fn main() {\n",
    "    let a = \"foobar\";\n",
    "    let b = \"foo\\\n",
    "             bar\";\n",
    "\n",
    "    assert_eq!(a,b);   // 동일한 값이 아니면 예외 처리 \n",
    "    println!(\" string dispaly a={}, b={}\", a,b)\n",
    "}"
   ]
  },
  {
   "cell_type": "code",
   "execution_count": 39,
   "id": "121d42b8",
   "metadata": {},
   "outputs": [
    {
     "name": "stdout",
     "output_type": "stream",
     "text": [
      " string dispaly a=foobar, b=foobar\n"
     ]
    },
    {
     "data": {
      "text/plain": [
       "()"
      ]
     },
     "execution_count": 39,
     "metadata": {},
     "output_type": "execute_result"
    }
   ],
   "source": [
    "main()"
   ]
  },
  {
   "cell_type": "code",
   "execution_count": null,
   "id": "57f3569f",
   "metadata": {},
   "outputs": [],
   "source": []
  },
  {
   "cell_type": "markdown",
   "id": "fc9adca8",
   "metadata": {},
   "source": [
    "## 원시 문자열 리터럴 \n",
    "\n",
    "- 이스케이프 문자도 문자열 내의 문자로 처리\n",
    "\n",
    "- RAW_STRING_LITERAL :\n",
    "r RAW_STRING_CONTENT\n",
    "\n",
    "- RAW_STRING_CONTENT :\n",
    "\" (~ IsolatedCR ) * (비 욕심) \"\n",
    "| # RAW_STRING_CONTENT #"
   ]
  },
  {
   "cell_type": "code",
   "execution_count": null,
   "id": "f5a5cb34",
   "metadata": {},
   "outputs": [],
   "source": []
  },
  {
   "cell_type": "code",
   "execution_count": 40,
   "id": "b968d00c",
   "metadata": {},
   "outputs": [],
   "source": [
    "#[allow(unused)]        // 사용하지 않는 변수 등의 경고 메시지 제약 \n",
    "fn main() {\n",
    "    let a = r\"foobar\";\n",
    "    let b = r\"foo\\\n",
    "              bar\";\n",
    "\n",
    "    println!(\" string dispaly a={}, b={}\", a,b)\n",
    "}"
   ]
  },
  {
   "cell_type": "code",
   "execution_count": 41,
   "id": "f4b487d9",
   "metadata": {},
   "outputs": [
    {
     "name": "stdout",
     "output_type": "stream",
     "text": [
      " string dispaly a=foobar, b=foo\\\n",
      "              bar\n"
     ]
    },
    {
     "data": {
      "text/plain": [
       "()"
      ]
     },
     "execution_count": 41,
     "metadata": {},
     "output_type": "execute_result"
    }
   ],
   "source": [
    "main()"
   ]
  },
  {
   "cell_type": "code",
   "execution_count": null,
   "id": "21fce71f",
   "metadata": {},
   "outputs": [],
   "source": []
  },
  {
   "cell_type": "markdown",
   "id": "98a0498b",
   "metadata": {},
   "source": [
    "## 1-4.  다양한 리터럴 표기법 확인 "
   ]
  },
  {
   "cell_type": "markdown",
   "id": "795b9b6d",
   "metadata": {},
   "source": [
    "### 변수 선언하기\n",
    "\n",
    "- let 으로 선언한 변수에 특정형 지정을 안하면 초기값으로 주어진 값에 붙은 접미사 형식의 데이터형으로 타입이 정해진다\n",
    "- 변수 선언은 문장이라 아무런 결과를 반환하지 않는다."
   ]
  },
  {
   "cell_type": "markdown",
   "id": "a710b9b0",
   "metadata": {},
   "source": [
    "### 하나의 셀에서 처리하면 연산하는 것까지 확인하고 타입을 확정함"
   ]
  },
  {
   "cell_type": "code",
   "execution_count": 58,
   "id": "c78ecf71",
   "metadata": {},
   "outputs": [
    {
     "name": "stdout",
     "output_type": "stream",
     "text": [
      " _constraint_i : u8\n",
      " _constraint_f : f32\n"
     ]
    }
   ],
   "source": [
    "// let 으로 선언한 변수에 특정형 지정을 안하면 초기값으로 주어진 값에 붙은 접미사 형식의 데이터형으로 타입이 정해진다\n",
    "let x = 1u8;\n",
    "let y = 2_u16;\n",
    "let z = 3f32;\n",
    "\n",
    "let i = 1;          //  i는 u8 데이터 형식이 된다. 컴파일 타임에 결정\n",
    "let f = 1.0;        // f는 z와의 덧셈에 쓰였으므로 f32형이 된다.\n",
    "\n",
    "// Constraints (summands must have the same type) for `i` and `f`\n",
    "let _constraint_i = x + i;\n",
    "let _constraint_f = z + f;\n",
    "\n",
    "println!(\" _constraint_i : {}\", _constraint_i.type_name_of());\n",
    "println!(\" _constraint_f : {}\", _constraint_f.type_name_of());"
   ]
  },
  {
   "cell_type": "markdown",
   "id": "524f5a8c",
   "metadata": {},
   "source": [
    "### 별도로 처리하면 타입이 확정되어 처리할 때 오류 발생"
   ]
  },
  {
   "cell_type": "code",
   "execution_count": 54,
   "id": "28860ccf",
   "metadata": {},
   "outputs": [],
   "source": [
    "// 타입 확정\n",
    "let x = 1u8;\n",
    "let y = 2_u16;\n",
    "let z = 3f32;"
   ]
  },
  {
   "cell_type": "code",
   "execution_count": 61,
   "id": "29122804",
   "metadata": {},
   "outputs": [],
   "source": [
    "// 타입 확정 \n",
    "let i = 1;          //  i32 데이터 형식이 된다\n",
    "let f = 1.0;        // f64 "
   ]
  },
  {
   "cell_type": "code",
   "execution_count": 62,
   "id": "4ee04b6d",
   "metadata": {},
   "outputs": [
    {
     "ename": "Error",
     "evalue": "mismatched types",
     "output_type": "error",
     "traceback": [
      "\u001b[31m[E0308] Error:\u001b[0m mismatched types",
      "   \u001b[38;5;246m╭\u001b[0m\u001b[38;5;246m─\u001b[0m\u001b[38;5;246m[\u001b[0mcommand_62:1:1\u001b[38;5;246m]\u001b[0m",
      "   \u001b[38;5;246m│\u001b[0m",
      " \u001b[38;5;246m2 │\u001b[0m \u001b[38;5;249ml\u001b[0m\u001b[38;5;249me\u001b[0m\u001b[38;5;249mt\u001b[0m\u001b[38;5;249m \u001b[0m\u001b[38;5;249m_\u001b[0m\u001b[38;5;249mc\u001b[0m\u001b[38;5;249mo\u001b[0m\u001b[38;5;249mn\u001b[0m\u001b[38;5;249ms\u001b[0m\u001b[38;5;249mt\u001b[0m\u001b[38;5;249mr\u001b[0m\u001b[38;5;249ma\u001b[0m\u001b[38;5;249mi\u001b[0m\u001b[38;5;249mn\u001b[0m\u001b[38;5;249mt\u001b[0m\u001b[38;5;249m_\u001b[0m\u001b[38;5;249mi\u001b[0m\u001b[38;5;249m \u001b[0m\u001b[38;5;249m=\u001b[0m\u001b[38;5;249m \u001b[0m\u001b[38;5;249mx\u001b[0m\u001b[38;5;249m \u001b[0m\u001b[38;5;249m+\u001b[0m\u001b[38;5;249m \u001b[0m\u001b[38;5;54mi\u001b[0m\u001b[38;5;249m;\u001b[0m",
      " \u001b[38;5;246m  ·\u001b[0m                         \u001b[38;5;54m┬\u001b[0m  ",
      " \u001b[38;5;246m  ·\u001b[0m                         \u001b[38;5;54m╰\u001b[0m\u001b[38;5;54m─\u001b[0m\u001b[38;5;54m─\u001b[0m expected `u8`, found `i32`",
      "\u001b[38;5;246m───╯\u001b[0m"
     ]
    },
    {
     "ename": "Error",
     "evalue": "cannot add `i32` to `u8`",
     "output_type": "error",
     "traceback": [
      "\u001b[31m[E0277] Error:\u001b[0m cannot add `i32` to `u8`",
      "   \u001b[38;5;246m╭\u001b[0m\u001b[38;5;246m─\u001b[0m\u001b[38;5;246m[\u001b[0mcommand_62:1:1\u001b[38;5;246m]\u001b[0m",
      "   \u001b[38;5;246m│\u001b[0m",
      " \u001b[38;5;246m2 │\u001b[0m \u001b[38;5;249ml\u001b[0m\u001b[38;5;249me\u001b[0m\u001b[38;5;249mt\u001b[0m\u001b[38;5;249m \u001b[0m\u001b[38;5;249m_\u001b[0m\u001b[38;5;249mc\u001b[0m\u001b[38;5;249mo\u001b[0m\u001b[38;5;249mn\u001b[0m\u001b[38;5;249ms\u001b[0m\u001b[38;5;249mt\u001b[0m\u001b[38;5;249mr\u001b[0m\u001b[38;5;249ma\u001b[0m\u001b[38;5;249mi\u001b[0m\u001b[38;5;249mn\u001b[0m\u001b[38;5;249mt\u001b[0m\u001b[38;5;249m_\u001b[0m\u001b[38;5;249mi\u001b[0m\u001b[38;5;249m \u001b[0m\u001b[38;5;249m=\u001b[0m\u001b[38;5;249m \u001b[0m\u001b[38;5;249mx\u001b[0m\u001b[38;5;249m \u001b[0m\u001b[38;5;54m+\u001b[0m\u001b[38;5;249m \u001b[0m\u001b[38;5;249mi\u001b[0m\u001b[38;5;249m;\u001b[0m",
      " \u001b[38;5;246m  ·\u001b[0m                       \u001b[38;5;54m┬\u001b[0m  ",
      " \u001b[38;5;246m  ·\u001b[0m                       \u001b[38;5;54m╰\u001b[0m\u001b[38;5;54m─\u001b[0m\u001b[38;5;54m─\u001b[0m no implementation for `u8 + i32`",
      "\u001b[38;5;246m───╯\u001b[0m"
     ]
    },
    {
     "ename": "Error",
     "evalue": "mismatched types",
     "output_type": "error",
     "traceback": [
      "\u001b[31m[E0308] Error:\u001b[0m mismatched types",
      "   \u001b[38;5;246m╭\u001b[0m\u001b[38;5;246m─\u001b[0m\u001b[38;5;246m[\u001b[0mcommand_62:1:1\u001b[38;5;246m]\u001b[0m",
      "   \u001b[38;5;246m│\u001b[0m",
      " \u001b[38;5;246m3 │\u001b[0m \u001b[38;5;249ml\u001b[0m\u001b[38;5;249me\u001b[0m\u001b[38;5;249mt\u001b[0m\u001b[38;5;249m \u001b[0m\u001b[38;5;249m_\u001b[0m\u001b[38;5;249mc\u001b[0m\u001b[38;5;249mo\u001b[0m\u001b[38;5;249mn\u001b[0m\u001b[38;5;249ms\u001b[0m\u001b[38;5;249mt\u001b[0m\u001b[38;5;249mr\u001b[0m\u001b[38;5;249ma\u001b[0m\u001b[38;5;249mi\u001b[0m\u001b[38;5;249mn\u001b[0m\u001b[38;5;249mt\u001b[0m\u001b[38;5;249m_\u001b[0m\u001b[38;5;249mf\u001b[0m\u001b[38;5;249m \u001b[0m\u001b[38;5;249m=\u001b[0m\u001b[38;5;249m \u001b[0m\u001b[38;5;249mz\u001b[0m\u001b[38;5;249m \u001b[0m\u001b[38;5;249m+\u001b[0m\u001b[38;5;249m \u001b[0m\u001b[38;5;54mf\u001b[0m\u001b[38;5;249m;\u001b[0m",
      " \u001b[38;5;246m  ·\u001b[0m                         \u001b[38;5;54m┬\u001b[0m  ",
      " \u001b[38;5;246m  ·\u001b[0m                         \u001b[38;5;54m╰\u001b[0m\u001b[38;5;54m─\u001b[0m\u001b[38;5;54m─\u001b[0m expected `f32`, found `f64`",
      "\u001b[38;5;246m───╯\u001b[0m"
     ]
    },
    {
     "ename": "Error",
     "evalue": "cannot add `f64` to `f32`",
     "output_type": "error",
     "traceback": [
      "\u001b[31m[E0277] Error:\u001b[0m cannot add `f64` to `f32`",
      "   \u001b[38;5;246m╭\u001b[0m\u001b[38;5;246m─\u001b[0m\u001b[38;5;246m[\u001b[0mcommand_62:1:1\u001b[38;5;246m]\u001b[0m",
      "   \u001b[38;5;246m│\u001b[0m",
      " \u001b[38;5;246m3 │\u001b[0m \u001b[38;5;249ml\u001b[0m\u001b[38;5;249me\u001b[0m\u001b[38;5;249mt\u001b[0m\u001b[38;5;249m \u001b[0m\u001b[38;5;249m_\u001b[0m\u001b[38;5;249mc\u001b[0m\u001b[38;5;249mo\u001b[0m\u001b[38;5;249mn\u001b[0m\u001b[38;5;249ms\u001b[0m\u001b[38;5;249mt\u001b[0m\u001b[38;5;249mr\u001b[0m\u001b[38;5;249ma\u001b[0m\u001b[38;5;249mi\u001b[0m\u001b[38;5;249mn\u001b[0m\u001b[38;5;249mt\u001b[0m\u001b[38;5;249m_\u001b[0m\u001b[38;5;249mf\u001b[0m\u001b[38;5;249m \u001b[0m\u001b[38;5;249m=\u001b[0m\u001b[38;5;249m \u001b[0m\u001b[38;5;249mz\u001b[0m\u001b[38;5;249m \u001b[0m\u001b[38;5;54m+\u001b[0m\u001b[38;5;249m \u001b[0m\u001b[38;5;249mf\u001b[0m\u001b[38;5;249m;\u001b[0m",
      " \u001b[38;5;246m  ·\u001b[0m                       \u001b[38;5;54m┬\u001b[0m  ",
      " \u001b[38;5;246m  ·\u001b[0m                       \u001b[38;5;54m╰\u001b[0m\u001b[38;5;54m─\u001b[0m\u001b[38;5;54m─\u001b[0m no implementation for `f32 + f64`",
      "\u001b[38;5;246m───╯\u001b[0m"
     ]
    }
   ],
   "source": [
    "// Constraints (summands must have the same type) for `i` and `f`\n",
    "let _constraint_i = x + i;\n",
    "let _constraint_f = z + f;"
   ]
  },
  {
   "cell_type": "code",
   "execution_count": null,
   "id": "b084223b",
   "metadata": {},
   "outputs": [],
   "source": []
  },
  {
   "cell_type": "markdown",
   "id": "3e82f64f",
   "metadata": {},
   "source": [
    "### 메인함수에서 리터럴 출력하기"
   ]
  },
  {
   "cell_type": "code",
   "execution_count": 59,
   "id": "91af5fdc",
   "metadata": {},
   "outputs": [],
   "source": [
    "use std::mem::size_of_val;\n",
    "\n",
    "fn main() {\n",
    "    // let 으로 선언한 변수에 특정형 지정을 안하면 초기값으로 주어진 값에 붙은 접미사 형식의 데이터형으로 타입이 정해진다\n",
    "    let x = 1u8;\n",
    "    let y = 2_u16;\n",
    "    let z = 3f32;\n",
    "\n",
    "    // 접미사를 주지 않으면 기본적으로 컴파일 에러가 난다.\n",
    "\n",
    "    // 소스의 어느곳에선가 쓰일 경우에 컴파일이 되는데 그 때의 데이터형으로 데이터형이 정해진다.\n",
    "\n",
    "    // let _constraint_i = x + i;  에서 i가 u8형식인 x와 덧셈에 쓰였기 때문에 u8형으로 지정됐다.\n",
    "\n",
    "    let i = 1;          //  i는 u8 데이터 형식이 된다. 컴파일 타임에 결정\n",
    "    let f = 1.0;        // f는 z와의 덧셈에 쓰였으므로 f32형이 된다.\n",
    "\n",
    "    // `size_of_val` returns the size of a variable in bytes\n",
    "    println!(\"size of `x` in bytes: {}\", size_of_val(&x));\n",
    "    println!(\"size of `y` in bytes: {}\", size_of_val(&y));\n",
    "    println!(\"size of `z` in bytes: {}\", size_of_val(&z));\n",
    "    println!(\"size of `i` in bytes: {}\", size_of_val(&i));   //==> 1\n",
    "    println!(\"size of `f` in bytes: {}\", size_of_val(&f));   //==> 4\n",
    "\n",
    "    // 내부적으로 타입을 안지정한 변수를 계산할 때 예외를 발생하지 않고 타입을 조정해서 처리함\n",
    "    let _constraint_i = x + i;\n",
    "    let _constraint_f = z + f;\n",
    "    println!(\" _constraint_i : {}\", _constraint_i.type_name_of());\n",
    "    println!(\" _constraint_f : {}\", _constraint_f.type_name_of());\n",
    "  \n",
    "}"
   ]
  },
  {
   "cell_type": "code",
   "execution_count": 60,
   "id": "19e4be6d",
   "metadata": {},
   "outputs": [
    {
     "name": "stdout",
     "output_type": "stream",
     "text": [
      "size of `x` in bytes: 1\n",
      "size of `y` in bytes: 2\n",
      "size of `z` in bytes: 4\n",
      "size of `i` in bytes: 1\n",
      "size of `f` in bytes: 4\n",
      " _constraint_i : u8\n",
      " _constraint_f : f32\n"
     ]
    },
    {
     "data": {
      "text/plain": [
       "()"
      ]
     },
     "execution_count": 60,
     "metadata": {},
     "output_type": "execute_result"
    }
   ],
   "source": [
    "main()"
   ]
  },
  {
   "cell_type": "code",
   "execution_count": null,
   "id": "97cbbfed",
   "metadata": {},
   "outputs": [],
   "source": []
  },
  {
   "cell_type": "markdown",
   "id": "24586031",
   "metadata": {},
   "source": [
    "## 1-5. 구조체를 정의할 때 속성을 정의해서 적용\n",
    "\n",
    "- 속성을 정의해서 특정 기능을 바로 적용할 수 있다.\n",
    "- 이때는 구조체 위에 속성을 정의한다.\n",
    "- 속성에 바로 컴파일러에서 적용을 원하면 derive(적용가능한 트레이트) 표시"
   ]
  },
  {
   "cell_type": "code",
   "execution_count": 44,
   "id": "513fdee3",
   "metadata": {},
   "outputs": [],
   "source": [
    "#[derive(TypeName)]\n",
    "struct Custom<T> {\n",
    "    some_t: T,\n",
    "}"
   ]
  },
  {
   "cell_type": "markdown",
   "id": "dce1d16d",
   "metadata": {},
   "source": [
    "### 현재 상태를 크레이트로 보고 그 다음에 구조체 표시"
   ]
  },
  {
   "cell_type": "code",
   "execution_count": 45,
   "id": "cb15f38f",
   "metadata": {},
   "outputs": [
    {
     "data": {
      "text/plain": [
       "\"ctx::Custom<u32>\""
      ]
     },
     "execution_count": 45,
     "metadata": {},
     "output_type": "execute_result"
    }
   ],
   "source": [
    "Custom::<u32>::type_name()"
   ]
  },
  {
   "cell_type": "code",
   "execution_count": null,
   "id": "2001c61a",
   "metadata": {},
   "outputs": [],
   "source": []
  }
 ],
 "metadata": {
  "kernelspec": {
   "display_name": "Rust",
   "language": "rust",
   "name": "rust"
  },
  "language_info": {
   "codemirror_mode": "rust",
   "file_extension": ".rs",
   "mimetype": "text/rust",
   "name": "Rust",
   "pygment_lexer": "rust",
   "version": ""
  }
 },
 "nbformat": 4,
 "nbformat_minor": 5
}
