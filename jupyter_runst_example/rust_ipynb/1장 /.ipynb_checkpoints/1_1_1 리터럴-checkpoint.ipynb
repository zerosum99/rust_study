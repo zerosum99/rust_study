{
 "cells": [
  {
   "cell_type": "code",
   "execution_count": null,
   "id": "b5362483",
   "metadata": {},
   "outputs": [],
   "source": []
  },
  {
   "cell_type": "markdown",
   "id": "8e9eb8f7",
   "metadata": {},
   "source": [
    "# 1. Literal\n",
    "\n",
    "- 숫자, 문자, 논리값, 문자열, 배열, 튜플 등을 작성한 것대로 처리하는 방식 "
   ]
  },
  {
   "cell_type": "code",
   "execution_count": 6,
   "id": "982c4d63",
   "metadata": {},
   "outputs": [],
   "source": [
    "use std::mem::size_of_val;"
   ]
  },
  {
   "cell_type": "code",
   "execution_count": null,
   "id": "03f3043d",
   "metadata": {},
   "outputs": [],
   "source": []
  },
  {
   "cell_type": "markdown",
   "id": "c81284cd",
   "metadata": {},
   "source": [
    "## 숫자"
   ]
  },
  {
   "cell_type": "code",
   "execution_count": 12,
   "id": "b7d67837",
   "metadata": {},
   "outputs": [],
   "source": [
    "fn main() {\n",
    "    \n",
    "    println!(\" 정수 u8  size {}\",size_of_val(&10_u8));\n",
    "    println!(\" 정수 i32 size {}\",size_of_val(&10_i32));\n",
    "    println!(\" 실수 f32 size {}\",size_of_val(&20.1_f32));\n",
    "    println!(\" 실수 f64 size {}\",size_of_val(&20.1_f64));\n",
    "}"
   ]
  },
  {
   "cell_type": "code",
   "execution_count": 13,
   "id": "f0a4a2b7",
   "metadata": {},
   "outputs": [
    {
     "name": "stdout",
     "output_type": "stream",
     "text": [
      " 정수 u8  size 1\n",
      " 정수 i32 size 4\n",
      " 실수 f32 size 4\n",
      " 실수 f64 size 8\n"
     ]
    },
    {
     "data": {
      "text/plain": [
       "()"
      ]
     },
     "execution_count": 13,
     "metadata": {},
     "output_type": "execute_result"
    }
   ],
   "source": [
    "main()"
   ]
  },
  {
   "cell_type": "code",
   "execution_count": null,
   "id": "79a99331",
   "metadata": {},
   "outputs": [],
   "source": []
  },
  {
   "cell_type": "code",
   "execution_count": null,
   "id": "9d9f4a0b",
   "metadata": {},
   "outputs": [],
   "source": []
  },
  {
   "cell_type": "markdown",
   "id": "7801cee0",
   "metadata": {},
   "source": [
    "##  문자리터럴\n",
    "\n",
    "- CHAR_LITERAL :\n",
    "' (~ [ ' \\ \\ n \\ r \\ t] | QUOTE_ESCAPE | ASCII_ESCAPE | UNICODE_ESCAPE) '\n",
    "\n",
    "- QUOTE_ESCAPE :\n",
    "\\' | \\\"\n",
    "\n",
    "- ASCII_ESCAPE :\n",
    "\\x OCT_DIGIT HEX_DIGIT\n",
    "| \\n | \\r | \\t | \\\\ | \\0\n",
    "\n",
    "- UNICODE_ESCAPE :\n",
    "\\u{ (HEX_DIGIT _ * ) 1..6 }"
   ]
  },
  {
   "cell_type": "code",
   "execution_count": 14,
   "id": "1eb73fde",
   "metadata": {},
   "outputs": [],
   "source": [
    "use std::mem::size_of_val;\n",
    "\n",
    "fn main() {\n",
    "    println!(\" char size {}\", size_of_val(&'a'));\n",
    "    println!(\" char utf8 {}\", 'a'.len_utf8());\n",
    "    println!(\" char size {}\", size_of_val(&'가'));\n",
    "    println!(\" char utf8 {}\", '가'.len_utf8());\n",
    "}"
   ]
  },
  {
   "cell_type": "code",
   "execution_count": 15,
   "id": "556d6d92",
   "metadata": {},
   "outputs": [
    {
     "name": "stdout",
     "output_type": "stream",
     "text": [
      " char size 4\n",
      " char utf8 1\n",
      " char size 4\n",
      " char utf8 3\n"
     ]
    },
    {
     "data": {
      "text/plain": [
       "()"
      ]
     },
     "execution_count": 15,
     "metadata": {},
     "output_type": "execute_result"
    }
   ],
   "source": [
    "main()"
   ]
  },
  {
   "cell_type": "markdown",
   "id": "56c19890",
   "metadata": {},
   "source": [
    "## 문자열 리터럴\n",
    "- STRING_LITERAL :\n",
    "\" (\n",
    "~[\"\\IsolatedCR]\n",
    "| QUOTE_ESCAPE\n",
    "| ASCII_ESCAPE\n",
    "| UNICODE_ESCAPE\n",
    "| STRING_CONTINUE\n",
    ")*\"\n",
    "\n",
    "- STRING_CONTINUE :\n",
    "\\ 다음에 \\ n"
   ]
  },
  {
   "cell_type": "code",
   "execution_count": 12,
   "id": "91342c45",
   "metadata": {},
   "outputs": [],
   "source": [
    "#![allow(unused)]        // 사용하지 않는 변수 등의 경고 메시지 제약 \n",
    "fn main() {\n",
    "    let a = \"foobar\";\n",
    "    let b = \"foo\\\n",
    "             bar\";\n",
    "\n",
    "    assert_eq!(a,b);\n",
    "    println!(\" string dispaly a={}, b={}\", a,b)\n",
    "}"
   ]
  },
  {
   "cell_type": "code",
   "execution_count": 13,
   "id": "121d42b8",
   "metadata": {},
   "outputs": [
    {
     "name": "stdout",
     "output_type": "stream",
     "text": [
      " string dispaly a=foobar, b=foobar\n"
     ]
    },
    {
     "data": {
      "text/plain": [
       "()"
      ]
     },
     "execution_count": 13,
     "metadata": {},
     "output_type": "execute_result"
    }
   ],
   "source": [
    "main()"
   ]
  },
  {
   "cell_type": "code",
   "execution_count": null,
   "id": "57f3569f",
   "metadata": {},
   "outputs": [],
   "source": []
  },
  {
   "cell_type": "markdown",
   "id": "fc9adca8",
   "metadata": {},
   "source": [
    "## 원시 문자열 \n",
    "\n",
    "- RAW_STRING_LITERAL :\n",
    "r RAW_STRING_CONTENT\n",
    "\n",
    "- RAW_STRING_CONTENT :\n",
    "\" (~ IsolatedCR ) * (비 욕심) \"\n",
    "| # RAW_STRING_CONTENT #"
   ]
  },
  {
   "cell_type": "code",
   "execution_count": null,
   "id": "f5a5cb34",
   "metadata": {},
   "outputs": [],
   "source": []
  },
  {
   "cell_type": "code",
   "execution_count": 22,
   "id": "b968d00c",
   "metadata": {},
   "outputs": [],
   "source": [
    "#![allow(unused)]        // 사용하지 않는 변수 등의 경고 메시지 제약 \n",
    "fn main() {\n",
    "    let a = r\"foobar\";\n",
    "    let b = r\"foo\\\n",
    "              bar\";\n",
    "\n",
    "    println!(\" string dispaly a={}, b={}\", a,b)\n",
    "}"
   ]
  },
  {
   "cell_type": "code",
   "execution_count": 23,
   "id": "f4b487d9",
   "metadata": {},
   "outputs": [
    {
     "name": "stdout",
     "output_type": "stream",
     "text": [
      " string dispaly a=foobar, b=foo\\\n",
      "              bar\n"
     ]
    },
    {
     "data": {
      "text/plain": [
       "()"
      ]
     },
     "execution_count": 23,
     "metadata": {},
     "output_type": "execute_result"
    }
   ],
   "source": [
    "main()"
   ]
  },
  {
   "cell_type": "code",
   "execution_count": null,
   "id": "21fce71f",
   "metadata": {},
   "outputs": [],
   "source": []
  },
  {
   "cell_type": "markdown",
   "id": "98a0498b",
   "metadata": {},
   "source": [
    "## 리터럴 표기법 확인 "
   ]
  },
  {
   "cell_type": "code",
   "execution_count": 28,
   "id": "91af5fdc",
   "metadata": {},
   "outputs": [],
   "source": [
    "use std::mem::size_of_val;\n",
    "\n",
    "fn main() {\n",
    "    // let 으로 선언한 변수에 특정형 지정을 안하면 초기값으로 주어진 값에 붙은 접미사 형식의 데이터형으로 타입이 정해진다\n",
    "    let x = 1u8;\n",
    "    let y = 2_u16;\n",
    "    let z = 3f32;\n",
    "\n",
    "    // 접미사를 주지 않으면 기본적으로 컴파일 에러가 난다.\n",
    "\n",
    "    // 소스의 어느곳에선가 쓰일 경우에 컴파일이 되는데 그 때의 데이터형으로 데이터형이 정해진다.\n",
    "\n",
    "    // let _constraint_i = x + i;  에서 i가 u8형식인 x와 덧셈에 쓰였기 때문에 u8형으로 지정됐다.\n",
    "\n",
    "    let i = 1;          //  i는 u8 데이터 형식이 된다. 컴파일 타임에 결정\n",
    "    let f = 1.0;        // f는 z와의 덧셈에 쓰였으므로 f32형이 된다.\n",
    "\n",
    "    // `size_of_val` returns the size of a variable in bytes\n",
    "    println!(\"size of `x` in bytes: {}\", size_of_val(&x));\n",
    "    println!(\"size of `y` in bytes: {}\", size_of_val(&y));\n",
    "    println!(\"size of `z` in bytes: {}\", size_of_val(&z));\n",
    "    println!(\"size of `i` in bytes: {}\", size_of_val(&i));   //==> 1\n",
    "    println!(\"size of `f` in bytes: {}\", size_of_val(&f));   //==> 4\n",
    "\n",
    "    // Constraints (summands must have the same type) for `i` and `f`\n",
    "    let _constraint_i = x + i;\n",
    "    let _constraint_f = z + f;\n",
    "  \n",
    "}"
   ]
  },
  {
   "cell_type": "code",
   "execution_count": 29,
   "id": "19e4be6d",
   "metadata": {},
   "outputs": [
    {
     "name": "stdout",
     "output_type": "stream",
     "text": [
      "size of `x` in bytes: 1\n",
      "size of `y` in bytes: 2\n",
      "size of `z` in bytes: 4\n",
      "size of `i` in bytes: 1\n",
      "size of `f` in bytes: 4\n"
     ]
    },
    {
     "data": {
      "text/plain": [
       "()"
      ]
     },
     "execution_count": 29,
     "metadata": {},
     "output_type": "execute_result"
    }
   ],
   "source": [
    "main()"
   ]
  },
  {
   "cell_type": "code",
   "execution_count": null,
   "id": "97cbbfed",
   "metadata": {},
   "outputs": [],
   "source": []
  }
 ],
 "metadata": {
  "kernelspec": {
   "display_name": "Rust",
   "language": "rust",
   "name": "rust"
  },
  "language_info": {
   "codemirror_mode": "rust",
   "file_extension": ".rs",
   "mimetype": "text/rust",
   "name": "Rust",
   "pygment_lexer": "rust",
   "version": ""
  }
 },
 "nbformat": 4,
 "nbformat_minor": 5
}
