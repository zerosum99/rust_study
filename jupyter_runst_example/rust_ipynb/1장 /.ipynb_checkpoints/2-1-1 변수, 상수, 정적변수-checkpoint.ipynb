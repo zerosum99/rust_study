{
 "cells": [
  {
   "cell_type": "code",
   "execution_count": null,
   "id": "b35f48da",
   "metadata": {},
   "outputs": [],
   "source": []
  },
  {
   "cell_type": "markdown",
   "id": "82e71ff7",
   "metadata": {},
   "source": [
    "## 변수 정의하기 "
   ]
  },
  {
   "cell_type": "code",
   "execution_count": 2,
   "id": "ab72d89a",
   "metadata": {},
   "outputs": [
    {
     "ename": "Error",
     "evalue": "expected `;`, found <end of input>",
     "output_type": "error",
     "traceback": [
      "\u001b[31mError:\u001b[0m expected `;`, found <end of input>",
      "   \u001b[38;5;246m╭\u001b[0m\u001b[38;5;246m─\u001b[0m\u001b[38;5;246m[\u001b[0mcommand_2:1:1\u001b[38;5;246m]\u001b[0m",
      "   \u001b[38;5;246m│\u001b[0m",
      " \u001b[38;5;246m1 │\u001b[0m \u001b[38;5;249ml\u001b[0m\u001b[38;5;249me\u001b[0m\u001b[38;5;249mt\u001b[0m\u001b[38;5;249m \u001b[0m\u001b[38;5;249mi\u001b[0m\u001b[38;5;249mm\u001b[0m\u001b[38;5;249mm\u001b[0m\u001b[38;5;249mu\u001b[0m\u001b[38;5;249m_\u001b[0m\u001b[38;5;249mv\u001b[0m\u001b[38;5;249ma\u001b[0m\u001b[38;5;249mr\u001b[0m\u001b[38;5;249m \u001b[0m\u001b[38;5;249m=\u001b[0m\u001b[38;5;249m \u001b[0m\u001b[38;5;249m3\u001b[0m\u001b[38;5;249m0\u001b[0m\u001b[38;5;249m0\u001b[0m",
      " \u001b[38;5;246m  ·\u001b[0m                   \u001b[38;5;54m│\u001b[0m ",
      " \u001b[38;5;246m  ·\u001b[0m                   \u001b[38;5;54m╰\u001b[0m\u001b[38;5;54m─\u001b[0m error: expected `;`, found `evcxr_variable_store`",
      " \u001b[38;5;246m  ·\u001b[0m                   \u001b[38;5;100m│\u001b[0m ",
      " \u001b[38;5;246m  ·\u001b[0m                   \u001b[38;5;100m╰\u001b[0m\u001b[38;5;100m─\u001b[0m help: add `;` here: `;`",
      "\u001b[38;5;246m───╯\u001b[0m"
     ]
    }
   ],
   "source": [
    "let immu_var = 300"
   ]
  },
  {
   "cell_type": "code",
   "execution_count": null,
   "id": "8eafb477",
   "metadata": {},
   "outputs": [],
   "source": []
  },
  {
   "cell_type": "code",
   "execution_count": null,
   "id": "23b7be10",
   "metadata": {},
   "outputs": [],
   "source": []
  },
  {
   "cell_type": "markdown",
   "id": "23db8844",
   "metadata": {},
   "source": [
    "## 전역변수는 static 변수로만 가능하다"
   ]
  },
  {
   "cell_type": "code",
   "execution_count": 18,
   "id": "b98a36d5",
   "metadata": {},
   "outputs": [],
   "source": [
    "struct MyStruct {\n",
    "    number: i32,\n",
    "    string: &'static str,\n",
    "}"
   ]
  },
  {
   "cell_type": "code",
   "execution_count": 21,
   "id": "0d02e089",
   "metadata": {},
   "outputs": [],
   "source": [
    "static SOME_INT: i32 = 5;\n",
    "static SOME_STR: &'static str = \"A static string\";\n",
    "static SOME_STRUCT: MyStruct = MyStruct {\n",
    "    number: 10,\n",
    "    string: \"Some string\",\n",
    "};\n",
    "static mut db: String = String::new();\n",
    "\n",
    "fn main() {\n",
    "    println!(\"{}\", SOME_INT);\n",
    "    println!(\"{}\", SOME_STR);\n",
    "    println!(\"{}\", SOME_STRUCT.number);\n",
    "    println!(\"{}\", SOME_STRUCT.string);\n",
    "\n",
    "    unsafe {\n",
    "        db = \"Some(open_database());\".to_string();\n",
    "    }\n",
    "}"
   ]
  },
  {
   "cell_type": "code",
   "execution_count": 22,
   "id": "503ebbb0",
   "metadata": {},
   "outputs": [
    {
     "name": "stdout",
     "output_type": "stream",
     "text": [
      "5\n",
      "A static string\n",
      "10\n",
      "Some string\n"
     ]
    },
    {
     "data": {
      "text/plain": [
       "()"
      ]
     },
     "execution_count": 22,
     "metadata": {},
     "output_type": "execute_result"
    }
   ],
   "source": [
    "main()"
   ]
  },
  {
   "cell_type": "code",
   "execution_count": null,
   "id": "24660757",
   "metadata": {},
   "outputs": [],
   "source": []
  },
  {
   "cell_type": "markdown",
   "id": "b4befdce",
   "metadata": {},
   "source": [
    "## 변수 정의 : 불변 변수 "
   ]
  },
  {
   "cell_type": "code",
   "execution_count": null,
   "id": "0fe9cc7f",
   "metadata": {},
   "outputs": [],
   "source": []
  },
  {
   "cell_type": "code",
   "execution_count": 13,
   "id": "5703b87e",
   "metadata": {},
   "outputs": [],
   "source": [
    "\n",
    "\n",
    "fn main() {\n",
    "    let fees = 25_000;\n",
    "    let salary:f64=35_000.00;\n",
    "    println!(\"fees is {} and salary is {}\",fees,salary); \n",
    "\n",
    "}"
   ]
  },
  {
   "cell_type": "code",
   "execution_count": 14,
   "id": "e67b7b54",
   "metadata": {},
   "outputs": [
    {
     "name": "stdout",
     "output_type": "stream",
     "text": [
      "fees is 25000 and salary is 35000\n"
     ]
    },
    {
     "data": {
      "text/plain": [
       "()"
      ]
     },
     "execution_count": 14,
     "metadata": {},
     "output_type": "execute_result"
    }
   ],
   "source": [
    "main()"
   ]
  },
  {
   "cell_type": "markdown",
   "id": "6a656dc4",
   "metadata": {},
   "source": [
    "## 변수 정의 : 가변 변수 "
   ]
  },
  {
   "cell_type": "code",
   "execution_count": 6,
   "id": "f7c462bc",
   "metadata": {},
   "outputs": [],
   "source": [
    "fn main() {\n",
    "    let mut fees = 25_000;\n",
    "    println!(\"fees is {} \",fees); \n",
    "    fees=35_000;\n",
    "    println!(\"fees changed is {}\",fees);\n",
    "}"
   ]
  },
  {
   "cell_type": "code",
   "execution_count": 7,
   "id": "d29a8c84",
   "metadata": {},
   "outputs": [
    {
     "name": "stdout",
     "output_type": "stream",
     "text": [
      "fees is 25000 \n",
      "fees changed is 35000\n"
     ]
    },
    {
     "data": {
      "text/plain": [
       "()"
      ]
     },
     "execution_count": 7,
     "metadata": {},
     "output_type": "execute_result"
    }
   ],
   "source": [
    "main()"
   ]
  },
  {
   "cell_type": "code",
   "execution_count": null,
   "id": "a0ce0ba7",
   "metadata": {},
   "outputs": [],
   "source": []
  },
  {
   "cell_type": "code",
   "execution_count": 8,
   "id": "5e6faf3b",
   "metadata": {},
   "outputs": [],
   "source": [
    "fn main() {\n",
    "    const USER_LIMIT:i32=100; // Declare a integer constant \n",
    "    const PI:f32 = 3.14;//Declare a float constant\n",
    "    println!(\"user limit is {}\",USER_LIMIT); //Display value of the constant \n",
    "    println!(\"pi value is {}\",PI); //Display value of the constant\n",
    "}"
   ]
  },
  {
   "cell_type": "code",
   "execution_count": 9,
   "id": "0fb1513a",
   "metadata": {},
   "outputs": [
    {
     "name": "stdout",
     "output_type": "stream",
     "text": [
      "user limit is 100\n",
      "pi value is 3.14\n"
     ]
    },
    {
     "data": {
      "text/plain": [
       "()"
      ]
     },
     "execution_count": 9,
     "metadata": {},
     "output_type": "execute_result"
    }
   ],
   "source": [
    "main()"
   ]
  },
  {
   "cell_type": "code",
   "execution_count": null,
   "id": "2c973c95",
   "metadata": {},
   "outputs": [],
   "source": []
  },
  {
   "cell_type": "code",
   "execution_count": 10,
   "id": "07dc2344",
   "metadata": {},
   "outputs": [],
   "source": [
    "fn main() {\n",
    "    let uname=\"Mohtashim\";\n",
    "    let uname= uname.len();\n",
    "    println!(\"name changed to integer : {}\",uname);\n",
    "}\n"
   ]
  },
  {
   "cell_type": "code",
   "execution_count": 11,
   "id": "d002e426",
   "metadata": {},
   "outputs": [
    {
     "name": "stdout",
     "output_type": "stream",
     "text": [
      "name changed to integer : 9\n"
     ]
    },
    {
     "data": {
      "text/plain": [
       "()"
      ]
     },
     "execution_count": 11,
     "metadata": {},
     "output_type": "execute_result"
    }
   ],
   "source": [
    "main()"
   ]
  },
  {
   "cell_type": "markdown",
   "id": "8d13e1a4",
   "metadata": {},
   "source": []
  },
  {
   "cell_type": "code",
   "execution_count": 14,
   "id": "03ad4dd3",
   "metadata": {},
   "outputs": [],
   "source": [
    "fn main() {\n",
    "    const NAME:&str=\"Mohtashim\";\n",
    "    const NAME1:usize= NAME.len(); //Error : `NAME` already defined \n",
    "    println!(\"name changed to integer : {}\",NAME);\n",
    "    println!(\"name changed to integer : {}\",NAME1);\n",
    "}"
   ]
  },
  {
   "cell_type": "code",
   "execution_count": 15,
   "id": "c196ead6",
   "metadata": {},
   "outputs": [
    {
     "name": "stdout",
     "output_type": "stream",
     "text": [
      "name changed to integer : Mohtashim\n",
      "name changed to integer : 9\n"
     ]
    },
    {
     "data": {
      "text/plain": [
       "()"
      ]
     },
     "execution_count": 15,
     "metadata": {},
     "output_type": "execute_result"
    }
   ],
   "source": [
    "main()"
   ]
  },
  {
   "cell_type": "code",
   "execution_count": null,
   "id": "948eefdc",
   "metadata": {},
   "outputs": [],
   "source": []
  }
 ],
 "metadata": {
  "kernelspec": {
   "display_name": "Rust",
   "language": "rust",
   "name": "rust"
  },
  "language_info": {
   "codemirror_mode": "rust",
   "file_extension": ".rs",
   "mimetype": "text/rust",
   "name": "Rust",
   "pygment_lexer": "rust",
   "version": ""
  }
 },
 "nbformat": 4,
 "nbformat_minor": 5
}
