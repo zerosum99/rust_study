{
 "cells": [
  {
   "cell_type": "code",
   "execution_count": 2,
   "id": "8082d916",
   "metadata": {},
   "outputs": [],
   "source": [
    "use std::io;"
   ]
  },
  {
   "cell_type": "code",
   "execution_count": null,
   "id": "88bd29d2",
   "metadata": {},
   "outputs": [],
   "source": [
    "fn main() {\n",
    "    println!(\"숫자를 맞혀봅시다!\");\n",
    "    \n",
    "    println!(\"정답이라고 생각하는 숫자를 입력하세요.\");\n",
    "    \n",
    "    let mut guess = String::new();\n",
    "    io::stdin().read_line(&mut guess).expect(\"입력한 값을 읽지 못했습니다.\");\n",
    "    \n",
    "    println1(\"입력한 값 : {}\", guess);\n",
    "}"
   ]
  }
 ],
 "metadata": {
  "kernelspec": {
   "display_name": "Rust",
   "language": "rust",
   "name": "rust"
  },
  "language_info": {
   "codemirror_mode": "rust",
   "file_extension": ".rs",
   "mimetype": "text/rust",
   "name": "Rust",
   "pygment_lexer": "rust",
   "version": ""
  }
 },
 "nbformat": 4,
 "nbformat_minor": 5
}
