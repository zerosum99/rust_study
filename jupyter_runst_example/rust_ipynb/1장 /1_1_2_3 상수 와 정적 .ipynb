{
 "cells": [
  {
   "cell_type": "code",
   "execution_count": null,
   "id": "02ab21ee",
   "metadata": {},
   "outputs": [],
   "source": []
  },
  {
   "cell_type": "markdown",
   "id": "41e086b2",
   "metadata": {},
   "source": [
    "# 상수 정의 "
   ]
  },
  {
   "cell_type": "code",
   "execution_count": 2,
   "id": "254b1a04",
   "metadata": {},
   "outputs": [],
   "source": [
    "const MIN_ : i32 = 100;"
   ]
  },
  {
   "cell_type": "code",
   "execution_count": null,
   "id": "2a286cfb",
   "metadata": {},
   "outputs": [],
   "source": []
  },
  {
   "cell_type": "markdown",
   "id": "46a293eb",
   "metadata": {},
   "source": [
    "## 정적변수: 전역변수 정의 "
   ]
  },
  {
   "cell_type": "code",
   "execution_count": 3,
   "id": "d5658084",
   "metadata": {},
   "outputs": [],
   "source": [
    "static MM : i32 = 100;"
   ]
  },
  {
   "cell_type": "code",
   "execution_count": null,
   "id": "f6012792",
   "metadata": {},
   "outputs": [],
   "source": []
  },
  {
   "cell_type": "markdown",
   "id": "e8ee5576",
   "metadata": {},
   "source": [
    "## 상수와 정적 변수 처리 "
   ]
  },
  {
   "cell_type": "code",
   "execution_count": 4,
   "id": "12d99524",
   "metadata": {},
   "outputs": [],
   "source": [
    "const MIN_ : i32 = 100;\n",
    "\n",
    "static MM : i32 = 100;\n",
    "\n",
    "fn get_min() -> i32 {\n",
    "    MIN_\n",
    "}\n",
    "\n",
    "\n",
    "fn main() {\n",
    "    \n",
    "    let max : i32 = 100;\n",
    "    println!(\"variable = {max}\");\n",
    "    const MAX : i32 = 100;\n",
    "    println!(\"constants = {MAX}\");\n",
    "    let min = get_min();\n",
    "    println!(\"global constants = {min}\");\n",
    "    let mmm = MM;\n",
    "    println!(\"global varialbe  = {mmm}\");\n",
    "    println!(\"global varialbe  = {MM}\");\n",
    "}"
   ]
  },
  {
   "cell_type": "code",
   "execution_count": 5,
   "id": "785d53a0",
   "metadata": {},
   "outputs": [
    {
     "name": "stdout",
     "output_type": "stream",
     "text": [
      "variable = 100\n",
      "constants = 100\n",
      "global constants = 100\n",
      "global varialbe  = 100\n",
      "global varialbe  = 100\n"
     ]
    },
    {
     "data": {
      "text/plain": [
       "()"
      ]
     },
     "execution_count": 5,
     "metadata": {},
     "output_type": "execute_result"
    }
   ],
   "source": [
    "main()"
   ]
  },
  {
   "cell_type": "code",
   "execution_count": null,
   "id": "4766a2b4",
   "metadata": {},
   "outputs": [],
   "source": []
  }
 ],
 "metadata": {
  "kernelspec": {
   "display_name": "Rust",
   "language": "rust",
   "name": "rust"
  },
  "language_info": {
   "codemirror_mode": "rust",
   "file_extension": ".rs",
   "mimetype": "text/rust",
   "name": "Rust",
   "pygment_lexer": "rust",
   "version": ""
  }
 },
 "nbformat": 4,
 "nbformat_minor": 5
}
