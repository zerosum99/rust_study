{
 "cells": [
  {
   "cell_type": "code",
   "execution_count": null,
   "id": "8c8b44eb",
   "metadata": {},
   "outputs": [],
   "source": []
  },
  {
   "cell_type": "code",
   "execution_count": null,
   "id": "a5f69463",
   "metadata": {},
   "outputs": [],
   "source": []
  },
  {
   "cell_type": "markdown",
   "id": "2ee6abc9",
   "metadata": {},
   "source": [
    "## 1. 패턴 매치 처리하기"
   ]
  },
  {
   "cell_type": "code",
   "execution_count": null,
   "id": "eaaa4cd6",
   "metadata": {},
   "outputs": [],
   "source": []
  },
  {
   "cell_type": "markdown",
   "id": "7ce84cc2",
   "metadata": {},
   "source": [
    "## 1-1. 매치 처리 : "
   ]
  },
  {
   "cell_type": "code",
   "execution_count": null,
   "id": "c6eec22e",
   "metadata": {},
   "outputs": [],
   "source": []
  },
  {
   "cell_type": "code",
   "execution_count": null,
   "id": "82e690d0",
   "metadata": {},
   "outputs": [],
   "source": []
  },
  {
   "cell_type": "code",
   "execution_count": 2,
   "id": "03d15277",
   "metadata": {},
   "outputs": [
    {
     "ename": "Error",
     "evalue": "expected one of `!` or `[`, found `#`",
     "output_type": "error",
     "traceback": [
      "## 1-2. 매치 처리 : ",
      "\u001b[91m ^\u001b[0m \u001b[94mexpected one of `!` or `[`\u001b[0m",
      "expected one of `!` or `[`, found `#`"
     ]
    }
   ],
   "source": [
    "## 1-2. 매치 처리 : "
   ]
  },
  {
   "cell_type": "code",
   "execution_count": null,
   "id": "555f7bf1",
   "metadata": {},
   "outputs": [],
   "source": []
  },
  {
   "cell_type": "code",
   "execution_count": null,
   "id": "575b3229",
   "metadata": {},
   "outputs": [],
   "source": []
  },
  {
   "cell_type": "code",
   "execution_count": null,
   "id": "f54f1593",
   "metadata": {},
   "outputs": [],
   "source": []
  },
  {
   "cell_type": "code",
   "execution_count": null,
   "id": "dde2bf8b",
   "metadata": {},
   "outputs": [],
   "source": []
  }
 ],
 "metadata": {
  "kernelspec": {
   "display_name": "Rust",
   "language": "rust",
   "name": "rust"
  },
  "language_info": {
   "codemirror_mode": "rust",
   "file_extension": ".rs",
   "mimetype": "text/rust",
   "name": "Rust",
   "pygment_lexer": "rust",
   "version": ""
  }
 },
 "nbformat": 4,
 "nbformat_minor": 5
}
