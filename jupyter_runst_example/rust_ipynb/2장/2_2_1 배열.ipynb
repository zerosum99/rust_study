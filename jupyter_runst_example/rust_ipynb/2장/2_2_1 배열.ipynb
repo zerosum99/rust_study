{
 "cells": [
  {
   "cell_type": "markdown",
   "id": "a2f96b9d",
   "metadata": {},
   "source": [
    "## 배열\n",
    "\n",
    "\n",
    "- 배열 리터럴  :  let variable_name = [value1,value2,value3];\n",
    "\n",
    "- 배열 자료형 지정과 배열 리터럴 할당  : let variable_name:[dataType;size] = [value1,value2,value3];\n",
    "\n",
    "- 배열 자료형 지정과 배열 초기화 할당 : let variable_name:[dataType;size] = [default_value_for_elements;size];"
   ]
  },
  {
   "cell_type": "markdown",
   "id": "614536dc",
   "metadata": {},
   "source": [
    "## 1. 배열 리터럴 "
   ]
  },
  {
   "cell_type": "code",
   "execution_count": 5,
   "id": "9a927784",
   "metadata": {},
   "outputs": [],
   "source": [
    "fn main() {\n",
    "    let arr = [1,2,3,4,5];\n",
    "    \n",
    "    println!(\"{:?}\", arr);\n",
    "    \n",
    "    println!(\"index search : {}\", arr[0])\n",
    "}"
   ]
  },
  {
   "cell_type": "code",
   "execution_count": 6,
   "id": "3773d1e0",
   "metadata": {},
   "outputs": [
    {
     "name": "stdout",
     "output_type": "stream",
     "text": [
      "[1, 2, 3, 4, 5]\n",
      "index search : 1\n"
     ]
    },
    {
     "data": {
      "text/plain": [
       "()"
      ]
     },
     "execution_count": 6,
     "metadata": {},
     "output_type": "execute_result"
    }
   ],
   "source": [
    "main()"
   ]
  },
  {
   "cell_type": "code",
   "execution_count": 7,
   "id": "dd4c2ad5",
   "metadata": {},
   "outputs": [],
   "source": [
    "fn main() {\n",
    "    let x = [\"English\", \"This\", \"sentence\", \"a\", \"in\", \"is\"];\n",
    "    println!(\"{} {} {} {} {} {}\", x[1], x[5], x[3], x[2], x[4], x[0]);\n",
    "}"
   ]
  },
  {
   "cell_type": "code",
   "execution_count": 8,
   "id": "2b5f86bb",
   "metadata": {},
   "outputs": [
    {
     "name": "stdout",
     "output_type": "stream",
     "text": [
      "This is a sentence in English\n"
     ]
    },
    {
     "data": {
      "text/plain": [
       "()"
      ]
     },
     "execution_count": 8,
     "metadata": {},
     "output_type": "execute_result"
    }
   ],
   "source": [
    "main()"
   ]
  },
  {
   "cell_type": "code",
   "execution_count": 19,
   "id": "b08dcfbb",
   "metadata": {},
   "outputs": [],
   "source": [
    "fn main() {\n",
    "    let x = [\"English\", \"This\", \"sentence\", \"a\", \"in\", \"is\"];\n",
    "    let y = \"출력\";\n",
    "    let z = &x;\n",
    "    println!(\"{:?}\", x);\n",
    "    println!(\"{y}\");\n",
    "    // println!(\"{z}\");  //[&str; 6]` cannot be formatted with the default formatter, \n",
    "                         // doesn't implement `std::fmt::Display`\n",
    "}"
   ]
  },
  {
   "cell_type": "code",
   "execution_count": 20,
   "id": "099ac06a",
   "metadata": {},
   "outputs": [
    {
     "name": "stdout",
     "output_type": "stream",
     "text": [
      "[\"English\", \"This\", \"sentence\", \"a\", \"in\", \"is\"]\n",
      "출력\n"
     ]
    },
    {
     "data": {
      "text/plain": [
       "()"
      ]
     },
     "execution_count": 20,
     "metadata": {},
     "output_type": "execute_result"
    }
   ],
   "source": [
    "main()"
   ]
  },
  {
   "cell_type": "markdown",
   "id": "675cd3b4",
   "metadata": {},
   "source": [
    "## 배열 타입 지정 처리"
   ]
  },
  {
   "cell_type": "code",
   "execution_count": 24,
   "id": "0759f3da",
   "metadata": {},
   "outputs": [],
   "source": [
    "fn main() {\n",
    "    let ar = [0,0,0,0,0,0,0,0,0,0];   \n",
    "    println!(\"{:?} \", ar);\n",
    "    let ar1 : [u8;10] = [1,1,1,1,1,1,1,1,1,1];\n",
    "    println!(\"{:?} \", ar1);\n",
    "    \n",
    "    let ar1 : [u8;10] = [0;10];\n",
    "    println!(\"{:?} \", ar1);\n",
    "    let ar1 : [u8;10] = [1;10];\n",
    "    println!(\"{:?} \", ar1);\n",
    "}"
   ]
  },
  {
   "cell_type": "code",
   "execution_count": 25,
   "id": "32112b7a",
   "metadata": {},
   "outputs": [
    {
     "name": "stdout",
     "output_type": "stream",
     "text": [
      "[0, 0, 0, 0, 0, 0, 0, 0, 0, 0] \n",
      "[1, 1, 1, 1, 1, 1, 1, 1, 1, 1] \n",
      "[0, 0, 0, 0, 0, 0, 0, 0, 0, 0] \n",
      "[1, 1, 1, 1, 1, 1, 1, 1, 1, 1] \n"
     ]
    },
    {
     "data": {
      "text/plain": [
       "()"
      ]
     },
     "execution_count": 25,
     "metadata": {},
     "output_type": "execute_result"
    }
   ],
   "source": [
    "main()"
   ]
  },
  {
   "cell_type": "code",
   "execution_count": null,
   "id": "4835d546",
   "metadata": {},
   "outputs": [],
   "source": []
  },
  {
   "cell_type": "code",
   "execution_count": null,
   "id": "3a648227",
   "metadata": {},
   "outputs": [],
   "source": []
  },
  {
   "cell_type": "code",
   "execution_count": null,
   "id": "3247b186",
   "metadata": {},
   "outputs": [],
   "source": []
  },
  {
   "cell_type": "markdown",
   "id": "582f2c0b",
   "metadata": {},
   "source": [
    "## 2.  배열 내부 갱신 "
   ]
  },
  {
   "cell_type": "markdown",
   "id": "d8f89dfc",
   "metadata": {},
   "source": [
    "### 변수가 변경이 불가할 때는 배열을 변경할 수 없다"
   ]
  },
  {
   "cell_type": "code",
   "execution_count": 9,
   "id": "782ea0ba",
   "metadata": {},
   "outputs": [],
   "source": [
    "fn main() {\n",
    "    let x = [\"This\", \"is\", \"a\", \"sentence\"];\n",
    "    // x[2] = \"a nice\";                 cannot assign to `x[_]`, as `x` is not declared as mutable\n",
    "    println!(\"{} {} {} {}.\", x[0], x[1], x[2], x[3]);\n",
    "}"
   ]
  },
  {
   "cell_type": "code",
   "execution_count": 10,
   "id": "9fe894fd",
   "metadata": {},
   "outputs": [
    {
     "name": "stdout",
     "output_type": "stream",
     "text": [
      "This is a sentence.\n"
     ]
    },
    {
     "data": {
      "text/plain": [
       "()"
      ]
     },
     "execution_count": 10,
     "metadata": {},
     "output_type": "execute_result"
    }
   ],
   "source": [
    "main()"
   ]
  },
  {
   "cell_type": "code",
   "execution_count": null,
   "id": "f0e5facf",
   "metadata": {},
   "outputs": [],
   "source": []
  },
  {
   "cell_type": "code",
   "execution_count": 6,
   "id": "676bd2d5",
   "metadata": {},
   "outputs": [],
   "source": [
    "fn main() {\n",
    "    let mut x = [\"This\", \"is\", \"a\", \"sentence\"];\n",
    "    println!(\"{} {} {} {}.\", x[0], x[1], x[2], x[3]);\n",
    "    x[2] = \"a nice\";\n",
    "    println!(\"{} {} {} {}.\", x[0], x[1], x[2], x[3]);\n",
    "}"
   ]
  },
  {
   "cell_type": "code",
   "execution_count": 7,
   "id": "27cf2943",
   "metadata": {},
   "outputs": [
    {
     "name": "stdout",
     "output_type": "stream",
     "text": [
      "This is a sentence.\n",
      "This is a nice sentence.\n"
     ]
    },
    {
     "data": {
      "text/plain": [
       "()"
      ]
     },
     "execution_count": 7,
     "metadata": {},
     "output_type": "execute_result"
    }
   ],
   "source": [
    "main()"
   ]
  },
  {
   "cell_type": "code",
   "execution_count": null,
   "id": "3cf427c3",
   "metadata": {},
   "outputs": [],
   "source": []
  }
 ],
 "metadata": {
  "kernelspec": {
   "display_name": "Rust",
   "language": "rust",
   "name": "rust"
  },
  "language_info": {
   "codemirror_mode": "rust",
   "file_extension": ".rs",
   "mimetype": "text/rust",
   "name": "Rust",
   "pygment_lexer": "rust",
   "version": ""
  }
 },
 "nbformat": 4,
 "nbformat_minor": 5
}
