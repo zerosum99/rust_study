{
 "cells": [
  {
   "cell_type": "markdown",
   "id": "8fc56af1",
   "metadata": {},
   "source": [
    "## 러스트 구성 방안 \n",
    "\n",
    "\n",
    "https://pipln.medium.com/rust-%EB%A5%BC-jupyter-notebook-%EC%82%AC%EC%9A%A9%ED%95%98%EA%B8%B0-cd939324e23f"
   ]
  },
  {
   "cell_type": "markdown",
   "id": "5af46848",
   "metadata": {},
   "source": [
    "## 디펜던시 추가 \n",
    "\n",
    "http://www.legendu.net/misc/blog/get-type-name-of-variables-in-rust/"
   ]
  },
  {
   "cell_type": "code",
   "execution_count": 3,
   "id": "4d49f812",
   "metadata": {},
   "outputs": [],
   "source": [
    "let s = 100;"
   ]
  },
  {
   "cell_type": "code",
   "execution_count": 4,
   "id": "ebf5e8dc",
   "metadata": {},
   "outputs": [],
   "source": [
    "let a = 200;"
   ]
  },
  {
   "cell_type": "code",
   "execution_count": 13,
   "id": "8069f6ec",
   "metadata": {},
   "outputs": [
    {
     "name": "stdout",
     "output_type": "stream",
     "text": [
      " s+ a = 300 \n"
     ]
    }
   ],
   "source": [
    "println!(\" s + a = {} \", s + a);"
   ]
  },
  {
   "cell_type": "code",
   "execution_count": null,
   "id": "6de0d17c",
   "metadata": {},
   "outputs": [],
   "source": []
  },
  {
   "cell_type": "markdown",
   "id": "71f06973",
   "metadata": {},
   "source": [
    "## 크레이트 추가하기 "
   ]
  },
  {
   "cell_type": "code",
   "execution_count": 5,
   "id": "960f0dbc",
   "metadata": {},
   "outputs": [],
   "source": [
    ":dep typename = \"0.1.2\""
   ]
  },
  {
   "cell_type": "markdown",
   "id": "853c6937",
   "metadata": {},
   "source": [
    "## 크레이트 사용하기 "
   ]
  },
  {
   "cell_type": "code",
   "execution_count": 6,
   "id": "f928627c",
   "metadata": {},
   "outputs": [],
   "source": [
    "use typename::TypeName;"
   ]
  },
  {
   "cell_type": "code",
   "execution_count": 7,
   "id": "51bde0a5",
   "metadata": {},
   "outputs": [
    {
     "data": {
      "text/plain": [
       "\"std::string::String\""
      ]
     },
     "execution_count": 7,
     "metadata": {},
     "output_type": "execute_result"
    }
   ],
   "source": [
    "String::type_name()"
   ]
  },
  {
   "cell_type": "code",
   "execution_count": 8,
   "id": "afdc5dfd",
   "metadata": {},
   "outputs": [
    {
     "data": {
      "text/plain": [
       "\"std::vec::Vec<i32>\""
      ]
     },
     "execution_count": 8,
     "metadata": {},
     "output_type": "execute_result"
    }
   ],
   "source": [
    "Vec::<i32>::type_name()"
   ]
  },
  {
   "cell_type": "code",
   "execution_count": 9,
   "id": "13425c5e",
   "metadata": {},
   "outputs": [
    {
     "data": {
      "text/plain": [
       "\"[i32; 3]\""
      ]
     },
     "execution_count": 9,
     "metadata": {},
     "output_type": "execute_result"
    }
   ],
   "source": [
    "[0, 1, 2].type_name_of()"
   ]
  },
  {
   "cell_type": "code",
   "execution_count": null,
   "id": "ee38c501",
   "metadata": {},
   "outputs": [],
   "source": []
  },
  {
   "cell_type": "markdown",
   "id": "d49a2876",
   "metadata": {},
   "source": [
    "## 생애주기 처리 : 참조자"
   ]
  },
  {
   "cell_type": "code",
   "execution_count": 15,
   "id": "bd606f7d",
   "metadata": {},
   "outputs": [],
   "source": [
    "fn echo(s : &'static str) {   // 생애주기를\n",
    "    println!(\" echo {}\", s);\n",
    "}\n"
   ]
  },
  {
   "cell_type": "code",
   "execution_count": 16,
   "id": "df2923c3",
   "metadata": {},
   "outputs": [
    {
     "name": "stdout",
     "output_type": "stream",
     "text": [
      " echo 가을이\n"
     ]
    }
   ],
   "source": [
    "echo(\"가을이\");\n",
    "let _s = String::from(\"겨율이\");\n",
    "//echo(&s);  //타입 에러 ... 참조자\n",
    "// echo(s.as_str());  lifetime을 명기한 경우 단순히 변환해서는 처리가 안됨"
   ]
  },
  {
   "cell_type": "code",
   "execution_count": null,
   "id": "ba850eed",
   "metadata": {},
   "outputs": [],
   "source": [
    "echo(&s);"
   ]
  }
 ],
 "metadata": {
  "kernelspec": {
   "display_name": "Rust",
   "language": "rust",
   "name": "rust"
  },
  "language_info": {
   "codemirror_mode": "rust",
   "file_extension": ".rs",
   "mimetype": "text/rust",
   "name": "Rust",
   "pygment_lexer": "rust",
   "version": ""
  }
 },
 "nbformat": 4,
 "nbformat_minor": 5
}
