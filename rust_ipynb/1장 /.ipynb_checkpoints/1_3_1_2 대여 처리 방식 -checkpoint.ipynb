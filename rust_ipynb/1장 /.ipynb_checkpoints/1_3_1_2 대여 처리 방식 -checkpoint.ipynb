{
 "cells": [
  {
   "cell_type": "code",
   "execution_count": null,
   "id": "c28e16ab",
   "metadata": {},
   "outputs": [],
   "source": []
  },
  {
   "cell_type": "markdown",
   "id": "0276d412",
   "metadata": {},
   "source": [
    "##  대여 정의 방식 \n",
    "\n",
    "- 객체에 대해 불변 참조를 가지는 변수: let othername = &name;\n",
    "- 객체에 대해 가변 참조를 가지는 변수: let othermut = &mut mutname;"
   ]
  },
  {
   "cell_type": "markdown",
   "id": "1e5b678b",
   "metadata": {},
   "source": [
    "## 대여 처리 방식 \n",
    "\n",
    "- 가변 변수는 가변 참조 변수에 빌려주고 나면 같은 범위에서는 사용할 수 없습니다. \n",
    "   동일 범위 안에 같은 객체에 대한 두 개 이상의 가변 변수가 생기면 안 됩니다. 이것을 write-write 충돌이 금지되는 것으로 이해할 수 있습니다.\n",
    "- 변수에 대해 불변 참조는 여러 개 생길 수 있습니다. \n",
    "   그러나 불변 참조가 생기고 나면 그 변수를 바꾸거나 가변 참조를 생성할 수 없습니다. read-wirte 충돌에 해당합니다. \n",
    "    즉 다른 변수가 읽기 권한을 가지고 있는데 데이터를 바꾸면 dirty-read가 될 수 있다는 것입니다.\n",
    "- 가변 참조가 동시에 여러 개 생길 수 없습니다. \n",
    "   가변 참조가 생기면 그것의 범위가 종료하기 전에는 가변 참조를 또 만들 수 없습니다.\n",
    "- 가변 변수에 대해 불변 참조를 만드는 것은 문제 없지만, 불변 변수에 대해 가변 참조를 만들 수는 없습니다."
   ]
  },
  {
   "cell_type": "code",
   "execution_count": null,
   "id": "c013ed06",
   "metadata": {},
   "outputs": [],
   "source": []
  },
  {
   "cell_type": "code",
   "execution_count": 5,
   "id": "84188568",
   "metadata": {},
   "outputs": [],
   "source": [
    "fn main() {\n",
    "    let country = String::from(\"대한민국\");\n",
    "    println!(\" {country}\");\n",
    "    \n",
    "    let ref_one = &country;\n",
    "    println!(\" reference 1 = {ref_one}\");\n",
    "    \n",
    "    let ref_two = &country;\n",
    "    println!(\" reference 2 = {ref_two}\");\n",
    "    \n",
    "}"
   ]
  },
  {
   "cell_type": "code",
   "execution_count": 6,
   "id": "13b708c5",
   "metadata": {},
   "outputs": [
    {
     "name": "stdout",
     "output_type": "stream",
     "text": [
      " 대한민국\n",
      " reference 1 = 대한민국\n",
      " reference 2 = 대한민국\n"
     ]
    },
    {
     "data": {
      "text/plain": [
       "()"
      ]
     },
     "execution_count": 6,
     "metadata": {},
     "output_type": "execute_result"
    }
   ],
   "source": [
    "main()"
   ]
  },
  {
   "cell_type": "code",
   "execution_count": null,
   "id": "19e119bb",
   "metadata": {},
   "outputs": [],
   "source": []
  },
  {
   "cell_type": "markdown",
   "id": "088f8047",
   "metadata": {},
   "source": [
    "## 지역변수는 참조로 반환 금지 "
   ]
  },
  {
   "cell_type": "code",
   "execution_count": 8,
   "id": "464c9d0e",
   "metadata": {},
   "outputs": [
    {
     "ename": "Error",
     "evalue": "cannot return reference to local variable `country`",
     "output_type": "error",
     "traceback": [
      "    &country",
      "\u001b[91m    ^^^^^^^^\u001b[0m \u001b[94mreturns a reference to data owned by the current function\u001b[0m",
      "cannot return reference to local variable `country`"
     ]
    }
   ],
   "source": [
    "fn return_localref() -> &'static String {\n",
    "    let country = String::from(\"대한민국\");\n",
    "    println!(\" {country}\");\n",
    "    &country\n",
    "}"
   ]
  },
  {
   "cell_type": "code",
   "execution_count": null,
   "id": "89aadec5",
   "metadata": {},
   "outputs": [],
   "source": []
  },
  {
   "cell_type": "markdown",
   "id": "2a3ee446",
   "metadata": {},
   "source": [
    "## 참조 처리하기"
   ]
  },
  {
   "cell_type": "code",
   "execution_count": 19,
   "id": "f9baef74",
   "metadata": {},
   "outputs": [],
   "source": [
    "fn return_localref(x : &u32) -> &u32 {\n",
    "     x\n",
    "}\n",
    "\n",
    "fn main() {\n",
    "    let country = 100;\n",
    "    let x = return_localref(&country);\n",
    "    println!(\"{x}\");\n",
    "}"
   ]
  },
  {
   "cell_type": "code",
   "execution_count": 20,
   "id": "5389b2a1",
   "metadata": {},
   "outputs": [
    {
     "name": "stdout",
     "output_type": "stream",
     "text": [
      "100\n"
     ]
    },
    {
     "data": {
      "text/plain": [
       "()"
      ]
     },
     "execution_count": 20,
     "metadata": {},
     "output_type": "execute_result"
    }
   ],
   "source": [
    "main()"
   ]
  },
  {
   "cell_type": "code",
   "execution_count": null,
   "id": "f67ab395",
   "metadata": {},
   "outputs": [],
   "source": []
  }
 ],
 "metadata": {
  "kernelspec": {
   "display_name": "Rust",
   "language": "rust",
   "name": "rust"
  },
  "language_info": {
   "codemirror_mode": "rust",
   "file_extension": ".rs",
   "mimetype": "text/rust",
   "name": "Rust",
   "pygment_lexer": "rust",
   "version": ""
  }
 },
 "nbformat": 4,
 "nbformat_minor": 5
}
