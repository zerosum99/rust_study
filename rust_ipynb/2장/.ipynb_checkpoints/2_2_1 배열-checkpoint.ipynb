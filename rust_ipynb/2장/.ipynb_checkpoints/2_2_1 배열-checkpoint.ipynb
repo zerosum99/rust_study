{
 "cells": [
  {
   "cell_type": "markdown",
   "id": "a2f96b9d",
   "metadata": {},
   "source": [
    "## 배열"
   ]
  },
  {
   "cell_type": "markdown",
   "id": "bf25c187",
   "metadata": {},
   "source": [
    "## 1. 배열 리터럴 "
   ]
  },
  {
   "cell_type": "code",
   "execution_count": 5,
   "id": "9a927784",
   "metadata": {},
   "outputs": [],
   "source": [
    "fn main() {\n",
    "    let arr = [1,2,3,4,5];\n",
    "    \n",
    "    println!(\"{:?}\", arr);\n",
    "    \n",
    "    println!(\"index search : {}\", arr[0])\n",
    "}"
   ]
  },
  {
   "cell_type": "code",
   "execution_count": 6,
   "id": "3773d1e0",
   "metadata": {},
   "outputs": [
    {
     "name": "stdout",
     "output_type": "stream",
     "text": [
      "[1, 2, 3, 4, 5]\n",
      "index search : 1\n"
     ]
    },
    {
     "data": {
      "text/plain": [
       "()"
      ]
     },
     "execution_count": 6,
     "metadata": {},
     "output_type": "execute_result"
    }
   ],
   "source": [
    "main()"
   ]
  },
  {
   "cell_type": "code",
   "execution_count": 7,
   "id": "dd4c2ad5",
   "metadata": {},
   "outputs": [],
   "source": [
    "fn main() {\n",
    "    let x = [\"English\", \"This\", \"sentence\", \"a\", \"in\", \"is\"];\n",
    "    println!(\"{} {} {} {} {} {}\", x[1], x[5], x[3], x[2], x[4], x[0]);\n",
    "}"
   ]
  },
  {
   "cell_type": "code",
   "execution_count": 8,
   "id": "2b5f86bb",
   "metadata": {},
   "outputs": [
    {
     "name": "stdout",
     "output_type": "stream",
     "text": [
      "This is a sentence in English\n"
     ]
    },
    {
     "data": {
      "text/plain": [
       "()"
      ]
     },
     "execution_count": 8,
     "metadata": {},
     "output_type": "execute_result"
    }
   ],
   "source": [
    "main()"
   ]
  },
  {
   "cell_type": "code",
   "execution_count": 19,
   "id": "b08dcfbb",
   "metadata": {},
   "outputs": [],
   "source": [
    "fn main() {\n",
    "    let x = [\"English\", \"This\", \"sentence\", \"a\", \"in\", \"is\"];\n",
    "    let y = \"출력\";\n",
    "    let z = &x;\n",
    "    println!(\"{:?}\", x);\n",
    "    println!(\"{y}\");\n",
    "    // println!(\"{z}\");  //[&str; 6]` cannot be formatted with the default formatter, \n",
    "                         // doesn't implement `std::fmt::Display`\n",
    "}"
   ]
  },
  {
   "cell_type": "code",
   "execution_count": 20,
   "id": "099ac06a",
   "metadata": {},
   "outputs": [
    {
     "name": "stdout",
     "output_type": "stream",
     "text": [
      "[\"English\", \"This\", \"sentence\", \"a\", \"in\", \"is\"]\n",
      "출력\n"
     ]
    },
    {
     "data": {
      "text/plain": [
       "()"
      ]
     },
     "execution_count": 20,
     "metadata": {},
     "output_type": "execute_result"
    }
   ],
   "source": [
    "main()"
   ]
  },
  {
   "cell_type": "markdown",
   "id": "640016b1",
   "metadata": {},
   "source": [
    "## 배열 타입 지정 처리"
   ]
  },
  {
   "cell_type": "code",
   "execution_count": 18,
   "id": "325120d4",
   "metadata": {},
   "outputs": [],
   "source": [
    "fn main() {\n",
    "    let ar = [0 ; 10];\n",
    "    println!(\"{:?} \", ar);\n",
    "    let ar1 : [u8;10] = [1;10];\n",
    "    println!(\"{:?} \", ar1);\n",
    "}"
   ]
  },
  {
   "cell_type": "code",
   "execution_count": 19,
   "id": "0b6edb88",
   "metadata": {},
   "outputs": [
    {
     "name": "stdout",
     "output_type": "stream",
     "text": [
      "[0, 0, 0, 0, 0, 0, 0, 0, 0, 0] \n",
      "[1, 1, 1, 1, 1, 1, 1, 1, 1, 1] \n"
     ]
    },
    {
     "data": {
      "text/plain": [
       "()"
      ]
     },
     "execution_count": 19,
     "metadata": {},
     "output_type": "execute_result"
    }
   ],
   "source": [
    "main()"
   ]
  },
  {
   "cell_type": "code",
   "execution_count": null,
   "id": "eda8def7",
   "metadata": {},
   "outputs": [],
   "source": []
  },
  {
   "cell_type": "code",
   "execution_count": null,
   "id": "8159975c",
   "metadata": {},
   "outputs": [],
   "source": []
  },
  {
   "cell_type": "code",
   "execution_count": null,
   "id": "dc7a4b02",
   "metadata": {},
   "outputs": [],
   "source": []
  },
  {
   "cell_type": "markdown",
   "id": "1a207b7b",
   "metadata": {},
   "source": [
    "## 2.  배열 내부 갱신 "
   ]
  },
  {
   "cell_type": "markdown",
   "id": "64f509b0",
   "metadata": {},
   "source": [
    "### 변수가 변경이 불가할 때는 배열을 변경할 수 없다"
   ]
  },
  {
   "cell_type": "code",
   "execution_count": 9,
   "id": "fde977cc",
   "metadata": {},
   "outputs": [],
   "source": [
    "fn main() {\n",
    "    let x = [\"This\", \"is\", \"a\", \"sentence\"];\n",
    "    // x[2] = \"a nice\";                 cannot assign to `x[_]`, as `x` is not declared as mutable\n",
    "    println!(\"{} {} {} {}.\", x[0], x[1], x[2], x[3]);\n",
    "}"
   ]
  },
  {
   "cell_type": "code",
   "execution_count": 10,
   "id": "23a1eb51",
   "metadata": {},
   "outputs": [
    {
     "name": "stdout",
     "output_type": "stream",
     "text": [
      "This is a sentence.\n"
     ]
    },
    {
     "data": {
      "text/plain": [
       "()"
      ]
     },
     "execution_count": 10,
     "metadata": {},
     "output_type": "execute_result"
    }
   ],
   "source": [
    "main()"
   ]
  },
  {
   "cell_type": "code",
   "execution_count": null,
   "id": "0087de9f",
   "metadata": {},
   "outputs": [],
   "source": []
  },
  {
   "cell_type": "code",
   "execution_count": 6,
   "id": "e05d7d4e",
   "metadata": {},
   "outputs": [],
   "source": [
    "fn main() {\n",
    "    let mut x = [\"This\", \"is\", \"a\", \"sentence\"];\n",
    "    println!(\"{} {} {} {}.\", x[0], x[1], x[2], x[3]);\n",
    "    x[2] = \"a nice\";\n",
    "    println!(\"{} {} {} {}.\", x[0], x[1], x[2], x[3]);\n",
    "}"
   ]
  },
  {
   "cell_type": "code",
   "execution_count": 7,
   "id": "b3427741",
   "metadata": {},
   "outputs": [
    {
     "name": "stdout",
     "output_type": "stream",
     "text": [
      "This is a sentence.\n",
      "This is a nice sentence.\n"
     ]
    },
    {
     "data": {
      "text/plain": [
       "()"
      ]
     },
     "execution_count": 7,
     "metadata": {},
     "output_type": "execute_result"
    }
   ],
   "source": [
    "main()"
   ]
  },
  {
   "cell_type": "code",
   "execution_count": null,
   "id": "70f2c9f2",
   "metadata": {},
   "outputs": [],
   "source": []
  }
 ],
 "metadata": {
  "kernelspec": {
   "display_name": "Rust",
   "language": "rust",
   "name": "rust"
  },
  "language_info": {
   "codemirror_mode": "rust",
   "file_extension": ".rs",
   "mimetype": "text/rust",
   "name": "Rust",
   "pygment_lexer": "rust",
   "version": ""
  }
 },
 "nbformat": 4,
 "nbformat_minor": 5
}
